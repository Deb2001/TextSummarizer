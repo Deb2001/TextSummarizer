{
  "nbformat": 4,
  "nbformat_minor": 0,
  "metadata": {
    "colab": {
      "provenance": []
    },
    "kernelspec": {
      "name": "python3",
      "display_name": "Python 3"
    },
    "language_info": {
      "name": "python"
    }
  },
  "cells": [
    {
      "cell_type": "markdown",
      "source": [
        "#Extractive Summarization\n",
        "The extractive text summarization\n",
        "where important sentences and words from the given\n",
        "text document are identified and those are combined\n",
        "into the summary in a meaningful way.\n",
        "To achieve extractive summarization in this discussion,\n",
        "we will use the TextRank algorithm. The similarity\n",
        "scores (the similarities between sentence vectors) are\n",
        "tabulated and stored in the similarity matrix. The\n",
        "similarity matrix is then converted into a graph. The\n",
        "sentences are considered vertices and similarity scores\n",
        "as edges. Finally, the sentences that are top in the\n",
        "rankings appear in the required summary.\n"
      ],
      "metadata": {
        "id": "9p_Rcs8CWw_x"
      }
    },
    {
      "cell_type": "markdown",
      "source": [
        "##Import Modules"
      ],
      "metadata": {
        "id": "rSBvi5HpXgMS"
      }
    },
    {
      "cell_type": "code",
      "execution_count": 5,
      "metadata": {
        "colab": {
          "base_uri": "https://localhost:8080/"
        },
        "id": "LRI81QM5Wmup",
        "outputId": "a07899bf-f691-40de-8b8f-04524e3e9f79"
      },
      "outputs": [
        {
          "output_type": "stream",
          "name": "stderr",
          "text": [
            "[nltk_data] Downloading package punkt to /root/nltk_data...\n",
            "[nltk_data]   Unzipping tokenizers/punkt.zip.\n",
            "[nltk_data] Downloading package stopwords to /root/nltk_data...\n",
            "[nltk_data]   Unzipping corpora/stopwords.zip.\n"
          ]
        },
        {
          "output_type": "execute_result",
          "data": {
            "text/plain": [
              "True"
            ]
          },
          "metadata": {},
          "execution_count": 5
        }
      ],
      "source": [
        "import numpy as np\n",
        "import pandas as pd\n",
        "import nltk\n",
        "import re\n",
        "from nltk.tokenize import sent_tokenize\n",
        "from nltk.corpus import stopwords\n",
        "from sklearn.metrics.pairwise import cosine_similarity\n",
        "import networkx as nx\n",
        "\n",
        "nltk.download('punkt') # one time execution\n",
        "nltk.download('stopwords')"
      ]
    },
    {
      "cell_type": "markdown",
      "source": [
        "##Convert string to list of sentences"
      ],
      "metadata": {
        "id": "0Cwlbh8tXqZ3"
      }
    },
    {
      "cell_type": "code",
      "source": [
        "def convertToList(text):\n",
        "    senlist=[]\n",
        "    s=''\n",
        "    for ch in text:\n",
        "        if ch=='.':\n",
        "            s=s+ch\n",
        "            s=s.lstrip()\n",
        "            senlist.append(s)\n",
        "            s=''\n",
        "        else:\n",
        "            s=s+ch\n",
        "    return senlist"
      ],
      "metadata": {
        "id": "Kc6m1z0fX7Wp"
      },
      "execution_count": 6,
      "outputs": []
    },
    {
      "cell_type": "markdown",
      "source": [
        "##Import Glove Embeddings"
      ],
      "metadata": {
        "id": "JX6expT0jfNQ"
      }
    },
    {
      "cell_type": "code",
      "source": [
        "!wget http://nlp.stanford.edu/data/glove.6B.zip\n",
        "!unzip glove*.zip"
      ],
      "metadata": {
        "colab": {
          "base_uri": "https://localhost:8080/"
        },
        "id": "xEZO4gEvjeO6",
        "outputId": "eae17e03-b0f0-41f4-afce-002618bb6486"
      },
      "execution_count": 9,
      "outputs": [
        {
          "output_type": "stream",
          "name": "stdout",
          "text": [
            "--2023-11-29 14:49:18--  http://nlp.stanford.edu/data/glove.6B.zip\n",
            "Resolving nlp.stanford.edu (nlp.stanford.edu)... 171.64.67.140\n",
            "Connecting to nlp.stanford.edu (nlp.stanford.edu)|171.64.67.140|:80... connected.\n",
            "HTTP request sent, awaiting response... 302 Found\n",
            "Location: https://nlp.stanford.edu/data/glove.6B.zip [following]\n",
            "--2023-11-29 14:49:18--  https://nlp.stanford.edu/data/glove.6B.zip\n",
            "Connecting to nlp.stanford.edu (nlp.stanford.edu)|171.64.67.140|:443... connected.\n",
            "HTTP request sent, awaiting response... 301 Moved Permanently\n",
            "Location: https://downloads.cs.stanford.edu/nlp/data/glove.6B.zip [following]\n",
            "--2023-11-29 14:49:19--  https://downloads.cs.stanford.edu/nlp/data/glove.6B.zip\n",
            "Resolving downloads.cs.stanford.edu (downloads.cs.stanford.edu)... 171.64.64.22\n",
            "Connecting to downloads.cs.stanford.edu (downloads.cs.stanford.edu)|171.64.64.22|:443... connected.\n",
            "HTTP request sent, awaiting response... 200 OK\n",
            "Length: 862182613 (822M) [application/zip]\n",
            "Saving to: ‘glove.6B.zip’\n",
            "\n",
            "glove.6B.zip        100%[===================>] 822.24M  5.14MB/s    in 2m 46s  \n",
            "\n",
            "2023-11-29 14:52:06 (4.94 MB/s) - ‘glove.6B.zip’ saved [862182613/862182613]\n",
            "\n",
            "Archive:  glove.6B.zip\n",
            "  inflating: glove.6B.50d.txt        \n",
            "  inflating: glove.6B.100d.txt       \n",
            "  inflating: glove.6B.200d.txt       \n",
            "  inflating: glove.6B.300d.txt       \n"
          ]
        }
      ]
    },
    {
      "cell_type": "markdown",
      "source": [
        "##Extractive Summarize Function"
      ],
      "metadata": {
        "id": "pSAHPkxBX5qf"
      }
    },
    {
      "cell_type": "code",
      "source": [
        "def extractiveSumm(article):\n",
        "\n",
        "    senlist=convertToList(article)\n",
        "    print(senlist)\n",
        "    sentences = []\n",
        "    for s in senlist:\n",
        "        sentences.append(sent_tokenize(s))\n",
        "    sentences = [y for x in sentences for y in x]\n",
        "    print()\n",
        "\n",
        "    # Extract word vectors\n",
        "    word_embeddings = {}\n",
        "    f = open('glove.6B.100d.txt', encoding='utf-8')\n",
        "    for line in f:\n",
        "        values = line.split()\n",
        "        word = values[0]\n",
        "        coefs = np.asarray(values[1:], dtype='float32')\n",
        "        word_embeddings[word] = coefs\n",
        "    f.close()\n",
        "\n",
        "    #remove punctuations, numbers and special characters\n",
        "    clean_sentences = pd.Series(sentences).str.replace(\"[^a-zA-Z]\", \" \",regex=False)\n",
        "\n",
        "    # make alphabets lowercase\n",
        "    clean_sentences = [s.lower() for s in clean_sentences]\n",
        "\n",
        "    stop_words = stopwords.words('english')\n",
        "    # function to remove stopwords\n",
        "    def remove_stopwords(sen):\n",
        "        sen_new = \" \".join([i for i in sen if i not in stop_words])\n",
        "        return sen_new\n",
        "    # remove stopwords from the sentences\n",
        "    clean_sentences = [remove_stopwords(r.split()) for r in clean_sentences]\n",
        "    print(clean_sentences)\n",
        "\n",
        "    # Extract word vectors\n",
        "    word_embeddings = {}\n",
        "    f = open('glove.6B.100d.txt', encoding='utf-8')\n",
        "    for line in f:\n",
        "        values = line.split()\n",
        "        word = values[0]\n",
        "        coefs = np.asarray(values[1:], dtype='float32')\n",
        "        word_embeddings[word] = coefs\n",
        "    f.close()\n",
        "\n",
        "    sentence_vectors = []\n",
        "    for i in clean_sentences:\n",
        "        if len(i) != 0:\n",
        "            v = sum([word_embeddings.get(w, np.zeros((100,))) for w in i.split()])/(len(i.split())+0.001)\n",
        "        else:\n",
        "            v = np.zeros((100,))\n",
        "        sentence_vectors.append(v)\n",
        "\n",
        "    # similarity matrix\n",
        "    sim_mat = np.zeros([len(sentences), len(sentences)])\n",
        "    for i in range(len(sentences)):\n",
        "        for j in range(len(sentences)):\n",
        "            if i != j:\n",
        "                sim_mat[i][j] = cosine_similarity(sentence_vectors[i].reshape(1,100), sentence_vectors[j].reshape(1,100))[0,0]\n",
        "    print()\n",
        "    print(sim_mat)\n",
        "    nx_graph = nx.from_numpy_array(sim_mat)\n",
        "\n",
        "    print()\n",
        "    print(nx_graph)\n",
        "    scores = nx.pagerank(nx_graph)\n",
        "    print()\n",
        "    print(scores)\n",
        "\n",
        "\n",
        "    print()\n",
        "    summlist=[]\n",
        "    ranked_sentences = sorted(((scores[i],s) for i,s in enumerate(senlist)), reverse=True)\n",
        "    for i in range(len(ranked_sentences)//2):\n",
        "        summlist.append(ranked_sentences[i][1])\n",
        "        print(ranked_sentences[i][1], end=\" \")\n",
        "    summary=' '.join([str(elem) for i,elem in enumerate(summlist)])\n",
        "    return summary"
      ],
      "metadata": {
        "id": "gPbkl-xcYqIH"
      },
      "execution_count": 10,
      "outputs": []
    },
    {
      "cell_type": "markdown",
      "source": [
        "##Article to test Extractive Summarization"
      ],
      "metadata": {
        "id": "FbmXOUDVfvgz"
      }
    },
    {
      "cell_type": "code",
      "source": [
        "article=\"Gautam Adani has surged back into the top 20 wealthiest individuals globally, propelled by a consecutive market rally that boosted the combined market value of his enterprises by 1.33 lakh crore. Currently occupying the 19th position on the Bloomberg Billionaires Index, Adani has seen his overall net worth rise by $6.5 billion, according to the latest update from Bloomberg. Nonetheless, his total net worth for the year-to-date period remains $53.8 billion lower, as reported by ET.\"\n",
        "summary=extractiveSumm(article)\n",
        "print(summary)"
      ],
      "metadata": {
        "colab": {
          "base_uri": "https://localhost:8080/"
        },
        "id": "mp3R4aXMfuzP",
        "outputId": "8865b963-0115-4e9a-92c7-a076cc4c265d"
      },
      "execution_count": 11,
      "outputs": [
        {
          "output_type": "stream",
          "name": "stdout",
          "text": [
            "['Gautam Adani has surged back into the top 20 wealthiest individuals globally, propelled by a consecutive market rally that boosted the combined market value of his enterprises by 1.', '33 lakh crore.', 'Currently occupying the 19th position on the Bloomberg Billionaires Index, Adani has seen his overall net worth rise by $6.', '5 billion, according to the latest update from Bloomberg.', 'Nonetheless, his total net worth for the year-to-date period remains $53.', '8 billion lower, as reported by ET.']\n",
            "\n",
            "['gautam adani surged back top 20 wealthiest individuals globally, propelled consecutive market rally boosted combined market value enterprises 1.', '33 lakh crore.', 'currently occupying 19th position bloomberg billionaires index, adani seen overall net worth rise $6.', '5 billion, according latest update bloomberg.', 'nonetheless, total net worth year-to-date period remains $53.', '8 billion lower, reported et.']\n",
            "\n",
            "[[0.         0.46055224 0.87585657 0.70120997 0.82233381 0.74823283]\n",
            " [0.46055224 0.         0.38040255 0.38383976 0.52011995 0.61288099]\n",
            " [0.87585657 0.38040255 0.         0.71122872 0.86753809 0.75433091]\n",
            " [0.70120997 0.38383976 0.71122872 0.         0.70454673 0.80872023]\n",
            " [0.82233381 0.52011995 0.86753809 0.70454673 0.         0.82432299]\n",
            " [0.74823283 0.61288099 0.75433091 0.80872023 0.82432299 0.        ]]\n",
            "\n",
            "Graph with 6 nodes and 15 edges\n",
            "\n",
            "{0: 0.17582515322405304, 1: 0.12267450309308928, 2: 0.1748328787397791, 3: 0.16295228780998117, 4: 0.18152348085846678, 5: 0.1821916962746306}\n",
            "\n",
            "8 billion lower, as reported by ET. Nonetheless, his total net worth for the year-to-date period remains $53. Gautam Adani has surged back into the top 20 wealthiest individuals globally, propelled by a consecutive market rally that boosted the combined market value of his enterprises by 1. 8 billion lower, as reported by ET. Nonetheless, his total net worth for the year-to-date period remains $53. Gautam Adani has surged back into the top 20 wealthiest individuals globally, propelled by a consecutive market rally that boosted the combined market value of his enterprises by 1.\n"
          ]
        }
      ]
    }
  ]
}